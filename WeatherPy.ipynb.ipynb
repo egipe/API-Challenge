{
 "cells": [
  {
   "cell_type": "markdown",
   "metadata": {},
   "source": [
    "# WeatherPy\n",
    "----\n",
    "\n",
    "#### Note\n",
    "* Instructions have been included for each segment. You do not have to follow them exactly, but they are included to help you think through the steps."
   ]
  },
  {
   "cell_type": "code",
   "execution_count": null,
   "metadata": {},
   "outputs": [],
   "source": [
    "# Trend Report: \n",
    "# 1. There is a strong correlation between temperature and latitude. As you move towards the equator, the temperature rises\n",
    "# 2. Wind speeds tend to decrease as you move towards the equator, though the correlation is less significant than temperature.\n",
    "# 3. Humidity does not strongly correlate with latitude. "
   ]
  },
  {
   "cell_type": "code",
   "execution_count": 1,
   "metadata": {
    "scrolled": true
   },
   "outputs": [],
   "source": [
    "# Dependencies and Setup\n",
    "import matplotlib.pyplot as plt\n",
    "import pandas as pd\n",
    "import numpy as np\n",
    "import requests\n",
    "import time\n",
    "from scipy.stats import linregress\n",
    "import pprint\n",
    "import datetime\n",
    "\n",
    "# Import API key\n",
    "from api_keys import weather_api_key\n",
    "\n",
    "# Incorporated citipy to determine city based on latitude and longitude\n",
    "from citipy import citipy\n",
    "\n",
    "# Output File (CSV)\n",
    "output_data_file = \"output_data/cities.csv\"\n",
    "\n",
    "# Range of latitudes and longitudes\n",
    "lat_range = (-90, 90)\n",
    "lng_range = (-180, 180)"
   ]
  },
  {
   "cell_type": "markdown",
   "metadata": {},
   "source": [
    "## Generate Cities List"
   ]
  },
  {
   "cell_type": "code",
   "execution_count": 2,
   "metadata": {},
   "outputs": [
    {
     "data": {
      "text/plain": [
       "601"
      ]
     },
     "execution_count": 2,
     "metadata": {},
     "output_type": "execute_result"
    }
   ],
   "source": [
    "# List for holding lat_lngs and cities\n",
    "lat_lngs = []\n",
    "cities = []\n",
    "\n",
    "# Create a set of random lat and lng combinations\n",
    "lats = np.random.uniform(lat_range[0], lat_range[1], size=1500)\n",
    "lngs = np.random.uniform(lng_range[0], lng_range[1], size=1500)\n",
    "lat_lngs = zip(lats, lngs)\n",
    "\n",
    "# Identify nearest city for each lat, lng combination\n",
    "for lat_lng in lat_lngs:\n",
    "    city = citipy.nearest_city(lat_lng[0], lat_lng[1]).city_name\n",
    "    \n",
    "    # If the city is unique, then add it to a our cities list\n",
    "    if city not in cities:\n",
    "        cities.append(city)\n",
    "\n",
    "# Print the city count to confirm sufficient count\n",
    "len(cities)\n"
   ]
  },
  {
   "cell_type": "markdown",
   "metadata": {},
   "source": [
    "### Perform API Calls\n",
    "* Perform a weather check on each city using a series of successive API calls.\n",
    "* Include a print log of each city as it'sbeing processed (with the city number and city name).\n"
   ]
  },
  {
   "cell_type": "code",
   "execution_count": 5,
   "metadata": {},
   "outputs": [
    {
     "name": "stdout",
     "output_type": "stream",
     "text": [
      "Print Log:provideniya, Date/Time:07-09-2020 22:01:28\n",
      "Print Log:llanes, Date/Time:07-09-2020 22:01:28\n",
      "Print Log:ak-dovurak, Date/Time:07-09-2020 22:01:30\n",
      "City not found. Skipping..\n",
      "Print Log:rikitea, Date/Time:07-09-2020 22:01:32\n",
      "Print Log:qaanaaq, Date/Time:07-09-2020 22:01:33\n",
      "Print Log:talnakh, Date/Time:07-09-2020 22:01:34\n",
      "Print Log:campo largo, Date/Time:07-09-2020 22:01:35\n",
      "Print Log:mataura, Date/Time:07-09-2020 22:01:36\n",
      "City not found. Skipping..\n",
      "Print Log:saldanha, Date/Time:07-09-2020 22:01:37\n",
      "Print Log:barrow, Date/Time:07-09-2020 22:01:38\n",
      "Print Log:hermanus, Date/Time:07-09-2020 22:01:38\n",
      "Print Log:khatanga, Date/Time:07-09-2020 22:01:39\n",
      "Print Log:tomatlan, Date/Time:07-09-2020 22:01:40\n",
      "Print Log:bakel, Date/Time:07-09-2020 22:01:40\n",
      "Print Log:kiunga, Date/Time:07-09-2020 22:01:41\n",
      "Print Log:acapulco, Date/Time:07-09-2020 22:01:42\n",
      "City not found. Skipping..\n",
      "Print Log:bluff, Date/Time:07-09-2020 22:01:44\n",
      "Print Log:kapaa, Date/Time:07-09-2020 22:01:45\n",
      "City not found. Skipping..\n",
      "Print Log:cayenne, Date/Time:07-09-2020 22:01:47\n",
      "Print Log:hilo, Date/Time:07-09-2020 22:01:48\n",
      "Print Log:puerto escondido, Date/Time:07-09-2020 22:01:49\n",
      "Print Log:deputatskiy, Date/Time:07-09-2020 22:01:50\n",
      "Print Log:helong, Date/Time:07-09-2020 22:01:50\n",
      "City not found. Skipping..\n",
      "Print Log:waitara, Date/Time:07-09-2020 22:01:52\n",
      "Print Log:albany, Date/Time:07-09-2020 22:01:53\n",
      "Print Log:tecoanapa, Date/Time:07-09-2020 22:01:54\n",
      "Print Log:dikson, Date/Time:07-09-2020 22:01:55\n",
      "Print Log:ushuaia, Date/Time:07-09-2020 22:01:56\n",
      "Print Log:douentza, Date/Time:07-09-2020 22:01:57\n",
      "Print Log:souillac, Date/Time:07-09-2020 22:01:57\n",
      "Print Log:rafaela, Date/Time:07-09-2020 22:01:57\n",
      "Print Log:thompson, Date/Time:07-09-2020 22:01:58\n",
      "Print Log:deutschlandsberg, Date/Time:07-09-2020 22:01:58\n",
      "Print Log:nsoko, Date/Time:07-09-2020 22:01:58\n",
      "Print Log:la asuncion, Date/Time:07-09-2020 22:01:59\n",
      "Print Log:ancud, Date/Time:07-09-2020 22:02:00\n",
      "Print Log:jardim, Date/Time:07-09-2020 22:02:02\n",
      "Print Log:vaini, Date/Time:07-09-2020 22:02:06\n",
      "Print Log:touros, Date/Time:07-09-2020 22:02:07\n",
      "Print Log:evensk, Date/Time:07-09-2020 22:02:08\n",
      "Print Log:bulnes, Date/Time:07-09-2020 22:02:08\n",
      "Print Log:bredasdorp, Date/Time:07-09-2020 22:02:10\n",
      "City not found. Skipping..\n",
      "Print Log:kavaratti, Date/Time:07-09-2020 22:02:12\n",
      "Print Log:pevek, Date/Time:07-09-2020 22:02:12\n"
     ]
    }
   ],
   "source": [
    "url = \"http://api.openweathermap.org/data/2.5/weather?\"\n",
    "units = \"imperial\"\n",
    "\n",
    "# Create lists\n",
    "Lat = []\n",
    "temp = []\n",
    "humidity = []\n",
    "cloudiness = []\n",
    "wind = []\n",
    "city_final = []\n",
    "Lon = []\n",
    "\n",
    "#Loop through cities\n",
    "for city in cities[0:50]:\n",
    "    query_url = f\"{url}appid={weather_api_key}&units={units}&q={city}\"\n",
    "    response = requests.get(query_url).json()\n",
    "    date=datetime.datetime.now()\n",
    "    try:\n",
    "        Lat.append(response['coord']['lat'])\n",
    "        Lon.append(response['coord']['lon'])\n",
    "        temp.append(response['main']['temp'])\n",
    "        humidity.append(response['main']['humidity'])\n",
    "        cloudiness.append(response['clouds']['all'])\n",
    "        wind.append(response['wind']['speed'])\n",
    "        city_final.append(response['name'])\n",
    "        print(\"Print Log:\" + (city) + \", Date/Time:\" + date.strftime(\"%m-%d-%Y %H:%M:%S\"))\n",
    "    except Exception:\n",
    "        print(\"City not found. Skipping..\")\n",
    "        pass\n",
    "        "
   ]
  },
  {
   "cell_type": "markdown",
   "metadata": {},
   "source": [
    "### Convert Raw Data to DataFrame\n",
    "* Export the city data into a .csv.\n",
    "* Display the DataFrame"
   ]
  },
  {
   "cell_type": "code",
   "execution_count": 6,
   "metadata": {},
   "outputs": [
    {
     "data": {
      "text/plain": [
       "{'City': ['Provideniya',\n",
       "  'Llanes',\n",
       "  'Ak-Dovurak',\n",
       "  'Rikitea',\n",
       "  'Qaanaaq',\n",
       "  'Talnakh',\n",
       "  'Campo Largo',\n",
       "  'Mataura',\n",
       "  'Saldanha',\n",
       "  'Barrow',\n",
       "  'Hermanus',\n",
       "  'Khatanga',\n",
       "  'Tomatlán',\n",
       "  'Bakel',\n",
       "  'Kiunga',\n",
       "  'Acapulco de Juárez',\n",
       "  'Bluff',\n",
       "  'Kapaa',\n",
       "  'Cayenne',\n",
       "  'Hilo',\n",
       "  'Puerto Escondido',\n",
       "  'Deputatsky',\n",
       "  'Helong',\n",
       "  'Waitara',\n",
       "  'Albany',\n",
       "  'Barra de Tecoanapa',\n",
       "  'Dikson',\n",
       "  'Ushuaia',\n",
       "  'Douentza',\n",
       "  'Souillac',\n",
       "  'Rafaela',\n",
       "  'Thompson',\n",
       "  'Deutschlandsberg',\n",
       "  'Nsoko',\n",
       "  'La Asuncion',\n",
       "  'Ancud',\n",
       "  'Jardim',\n",
       "  'Vaini',\n",
       "  'Touros',\n",
       "  'Evensk',\n",
       "  'Bulnes',\n",
       "  'Bredasdorp',\n",
       "  'Kavaratti',\n",
       "  'Pevek'],\n",
       " 'Lat': [64.38,\n",
       "  43.42,\n",
       "  51.18,\n",
       "  -23.12,\n",
       "  77.48,\n",
       "  69.49,\n",
       "  -25.46,\n",
       "  -46.19,\n",
       "  -33.01,\n",
       "  71.29,\n",
       "  -34.42,\n",
       "  71.97,\n",
       "  19.93,\n",
       "  14.9,\n",
       "  -6.12,\n",
       "  16.86,\n",
       "  -46.6,\n",
       "  22.08,\n",
       "  4.93,\n",
       "  19.73,\n",
       "  15.85,\n",
       "  69.3,\n",
       "  42.54,\n",
       "  -38.92,\n",
       "  42.6,\n",
       "  16.52,\n",
       "  73.51,\n",
       "  -54.8,\n",
       "  15,\n",
       "  -20.52,\n",
       "  -31.25,\n",
       "  55.74,\n",
       "  46.82,\n",
       "  -27.03,\n",
       "  11.03,\n",
       "  -41.87,\n",
       "  -21.48,\n",
       "  -21.2,\n",
       "  -5.2,\n",
       "  61.95,\n",
       "  -36.74,\n",
       "  -34.53,\n",
       "  10.57,\n",
       "  69.7],\n",
       " 'Lon': [-173.3,\n",
       "  -4.75,\n",
       "  90.6,\n",
       "  -134.97,\n",
       "  -69.36,\n",
       "  88.4,\n",
       "  -49.53,\n",
       "  168.86,\n",
       "  17.94,\n",
       "  -156.79,\n",
       "  19.23,\n",
       "  102.5,\n",
       "  -105.25,\n",
       "  -12.46,\n",
       "  141.29,\n",
       "  -99.89,\n",
       "  168.33,\n",
       "  -159.32,\n",
       "  -52.33,\n",
       "  -155.09,\n",
       "  -97.07,\n",
       "  139.9,\n",
       "  129,\n",
       "  174.25,\n",
       "  -73.97,\n",
       "  -98.75,\n",
       "  80.55,\n",
       "  -68.3,\n",
       "  -2.95,\n",
       "  57.52,\n",
       "  -61.49,\n",
       "  -97.86,\n",
       "  15.22,\n",
       "  31.95,\n",
       "  -63.86,\n",
       "  -73.82,\n",
       "  -56.14,\n",
       "  -175.2,\n",
       "  -35.46,\n",
       "  159.23,\n",
       "  -72.3,\n",
       "  20.04,\n",
       "  72.64,\n",
       "  170.31],\n",
       " 'Temp': [57.2,\n",
       "  65.21,\n",
       "  74.05,\n",
       "  66.94,\n",
       "  45.75,\n",
       "  62.6,\n",
       "  39.67,\n",
       "  45.05,\n",
       "  51.8,\n",
       "  33.8,\n",
       "  51.01,\n",
       "  63.3,\n",
       "  78.1,\n",
       "  84.49,\n",
       "  89.15,\n",
       "  81.12,\n",
       "  50.5,\n",
       "  77.72,\n",
       "  75.2,\n",
       "  72.45,\n",
       "  81.1,\n",
       "  63.23,\n",
       "  82.02,\n",
       "  48.99,\n",
       "  76.51,\n",
       "  81.1,\n",
       "  45.03,\n",
       "  33.8,\n",
       "  86.18,\n",
       "  68,\n",
       "  46.6,\n",
       "  60.8,\n",
       "  61.23,\n",
       "  55.4,\n",
       "  80.6,\n",
       "  38.66,\n",
       "  56.71,\n",
       "  75.2,\n",
       "  73.4,\n",
       "  59.23,\n",
       "  52.66,\n",
       "  50,\n",
       "  80.6,\n",
       "  44.38],\n",
       " 'Humidity': [67,\n",
       "  98,\n",
       "  43,\n",
       "  71,\n",
       "  57,\n",
       "  67,\n",
       "  99,\n",
       "  91,\n",
       "  93,\n",
       "  86,\n",
       "  81,\n",
       "  46,\n",
       "  83,\n",
       "  62,\n",
       "  59,\n",
       "  80,\n",
       "  78,\n",
       "  74,\n",
       "  100,\n",
       "  65,\n",
       "  81,\n",
       "  44,\n",
       "  41,\n",
       "  69,\n",
       "  93,\n",
       "  83,\n",
       "  79,\n",
       "  69,\n",
       "  54,\n",
       "  88,\n",
       "  58,\n",
       "  87,\n",
       "  87,\n",
       "  87,\n",
       "  88,\n",
       "  93,\n",
       "  67,\n",
       "  88,\n",
       "  94,\n",
       "  80,\n",
       "  100,\n",
       "  93,\n",
       "  88,\n",
       "  95],\n",
       " 'Cloudiness': [10,\n",
       "  0,\n",
       "  85,\n",
       "  20,\n",
       "  0,\n",
       "  0,\n",
       "  31,\n",
       "  92,\n",
       "  100,\n",
       "  90,\n",
       "  100,\n",
       "  0,\n",
       "  100,\n",
       "  100,\n",
       "  93,\n",
       "  93,\n",
       "  57,\n",
       "  40,\n",
       "  99,\n",
       "  90,\n",
       "  51,\n",
       "  72,\n",
       "  95,\n",
       "  4,\n",
       "  1,\n",
       "  94,\n",
       "  0,\n",
       "  20,\n",
       "  44,\n",
       "  75,\n",
       "  0,\n",
       "  90,\n",
       "  0,\n",
       "  0,\n",
       "  0,\n",
       "  20,\n",
       "  76,\n",
       "  75,\n",
       "  40,\n",
       "  95,\n",
       "  90,\n",
       "  100,\n",
       "  90,\n",
       "  92],\n",
       " 'Wind Speed (mph)': [15.66,\n",
       "  1.99,\n",
       "  1.32,\n",
       "  20.74,\n",
       "  5.28,\n",
       "  26.84,\n",
       "  1.01,\n",
       "  5.28,\n",
       "  8.05,\n",
       "  10.29,\n",
       "  8.99,\n",
       "  19.37,\n",
       "  1.59,\n",
       "  12.01,\n",
       "  3.09,\n",
       "  6.69,\n",
       "  18.72,\n",
       "  19.46,\n",
       "  1.12,\n",
       "  4.7,\n",
       "  5.79,\n",
       "  3.83,\n",
       "  10.31,\n",
       "  5.01,\n",
       "  4.63,\n",
       "  5.61,\n",
       "  13.27,\n",
       "  4.7,\n",
       "  13.15,\n",
       "  14.99,\n",
       "  5.01,\n",
       "  5.82,\n",
       "  2.24,\n",
       "  1.12,\n",
       "  11.41,\n",
       "  6.93,\n",
       "  4.09,\n",
       "  8.05,\n",
       "  2.24,\n",
       "  7.49,\n",
       "  17.22,\n",
       "  9.17,\n",
       "  4.7,\n",
       "  5.59]}"
      ]
     },
     "execution_count": 6,
     "metadata": {},
     "output_type": "execute_result"
    }
   ],
   "source": [
    "weather_dict = {\n",
    "    \"City\": city_final,\n",
    "    \"Lat\": Lat,\n",
    "    \"Lon\": Lon,\n",
    "    \"Temp\": temp,\n",
    "    \"Humidity\": humidity,\n",
    "    \"Cloudiness\": cloudiness,\n",
    "    \"Wind Speed (mph)\": wind\n",
    "}\n",
    "\n",
    "weather_dict"
   ]
  },
  {
   "cell_type": "code",
   "execution_count": 7,
   "metadata": {},
   "outputs": [
    {
     "data": {
      "text/html": [
       "<div>\n",
       "<style scoped>\n",
       "    .dataframe tbody tr th:only-of-type {\n",
       "        vertical-align: middle;\n",
       "    }\n",
       "\n",
       "    .dataframe tbody tr th {\n",
       "        vertical-align: top;\n",
       "    }\n",
       "\n",
       "    .dataframe thead th {\n",
       "        text-align: right;\n",
       "    }\n",
       "</style>\n",
       "<table border=\"1\" class=\"dataframe\">\n",
       "  <thead>\n",
       "    <tr style=\"text-align: right;\">\n",
       "      <th></th>\n",
       "      <th>City</th>\n",
       "      <th>Lat</th>\n",
       "      <th>Lon</th>\n",
       "      <th>Temp</th>\n",
       "      <th>Humidity</th>\n",
       "      <th>Cloudiness</th>\n",
       "      <th>Wind Speed (mph)</th>\n",
       "    </tr>\n",
       "  </thead>\n",
       "  <tbody>\n",
       "    <tr>\n",
       "      <th>0</th>\n",
       "      <td>Provideniya</td>\n",
       "      <td>64.38</td>\n",
       "      <td>-173.30</td>\n",
       "      <td>57.20</td>\n",
       "      <td>67</td>\n",
       "      <td>10</td>\n",
       "      <td>15.66</td>\n",
       "    </tr>\n",
       "    <tr>\n",
       "      <th>1</th>\n",
       "      <td>Llanes</td>\n",
       "      <td>43.42</td>\n",
       "      <td>-4.75</td>\n",
       "      <td>65.21</td>\n",
       "      <td>98</td>\n",
       "      <td>0</td>\n",
       "      <td>1.99</td>\n",
       "    </tr>\n",
       "    <tr>\n",
       "      <th>2</th>\n",
       "      <td>Ak-Dovurak</td>\n",
       "      <td>51.18</td>\n",
       "      <td>90.60</td>\n",
       "      <td>74.05</td>\n",
       "      <td>43</td>\n",
       "      <td>85</td>\n",
       "      <td>1.32</td>\n",
       "    </tr>\n",
       "    <tr>\n",
       "      <th>3</th>\n",
       "      <td>Rikitea</td>\n",
       "      <td>-23.12</td>\n",
       "      <td>-134.97</td>\n",
       "      <td>66.94</td>\n",
       "      <td>71</td>\n",
       "      <td>20</td>\n",
       "      <td>20.74</td>\n",
       "    </tr>\n",
       "    <tr>\n",
       "      <th>4</th>\n",
       "      <td>Qaanaaq</td>\n",
       "      <td>77.48</td>\n",
       "      <td>-69.36</td>\n",
       "      <td>45.75</td>\n",
       "      <td>57</td>\n",
       "      <td>0</td>\n",
       "      <td>5.28</td>\n",
       "    </tr>\n",
       "  </tbody>\n",
       "</table>\n",
       "</div>"
      ],
      "text/plain": [
       "          City    Lat     Lon   Temp  Humidity  Cloudiness  Wind Speed (mph)\n",
       "0  Provideniya  64.38 -173.30  57.20        67          10             15.66\n",
       "1       Llanes  43.42   -4.75  65.21        98           0              1.99\n",
       "2   Ak-Dovurak  51.18   90.60  74.05        43          85              1.32\n",
       "3      Rikitea -23.12 -134.97  66.94        71          20             20.74\n",
       "4      Qaanaaq  77.48  -69.36  45.75        57           0              5.28"
      ]
     },
     "execution_count": 7,
     "metadata": {},
     "output_type": "execute_result"
    }
   ],
   "source": [
    "weather_df = pd.DataFrame(weather_dict)\n",
    "weather_df.head()"
   ]
  },
  {
   "cell_type": "code",
   "execution_count": 8,
   "metadata": {},
   "outputs": [],
   "source": [
    "# create a csv\n",
    "weather_df.to_csv(output_data_file)"
   ]
  },
  {
   "cell_type": "markdown",
   "metadata": {},
   "source": [
    "## Inspect the data and remove the cities where the humidity > 100%.\n",
    "----\n",
    "Skip this step if there are no cities that have humidity > 100%. "
   ]
  },
  {
   "cell_type": "code",
   "execution_count": 9,
   "metadata": {},
   "outputs": [],
   "source": [
    "clean_city_df = weather_df.loc[(weather_df[\"Humidity\"]<= 100)]"
   ]
  },
  {
   "cell_type": "code",
   "execution_count": 10,
   "metadata": {},
   "outputs": [],
   "source": [
    "#  Get the indices of cities that have humidity over 100%.\n"
   ]
  },
  {
   "cell_type": "code",
   "execution_count": 11,
   "metadata": {},
   "outputs": [],
   "source": [
    "# Make a new DataFrame equal to the city data to drop all humidity outliers by index.\n",
    " \n",
    "# Passing \"inplace=False\" will make a copy of the city_data DataFrame, which we call \"clean_city_data\".\n"
   ]
  },
  {
   "cell_type": "code",
   "execution_count": 12,
   "metadata": {},
   "outputs": [],
   "source": [
    "# Extract relevant fields from the data frame\n",
    "\n",
    "# Export the City_Data into a csv\n",
    "clean_city_df.to_csv(output_data_file)\n"
   ]
  },
  {
   "cell_type": "markdown",
   "metadata": {},
   "source": [
    "## Plotting the Data\n",
    "* Use proper labeling of the plots using plot titles (including date of analysis) and axes labels.\n",
    "* Save the plotted figures as .pngs."
   ]
  },
  {
   "cell_type": "markdown",
   "metadata": {},
   "source": [
    "## Latitude vs. Temperature Plot"
   ]
  },
  {
   "cell_type": "code",
   "execution_count": 13,
   "metadata": {
    "scrolled": true
   },
   "outputs": [
    {
     "data": {
      "image/png": "[encoded data removed]",
      "text/plain": [
       "<Figure size 432x288 with 1 Axes>"
      ]
     },
     "metadata": {
      "needs_background": "light"
     },
     "output_type": "display_data"
    }
   ],
   "source": [
    "plt.scatter(clean_city_df[\"Lat\"], clean_city_df[\"Temp\"])\n",
    "plt.title(\"Latitude vs. Temperature\")\n",
    "plt.xlabel(\"Latitude\")\n",
    "plt.ylabel(\"Temperature(F)\")\n",
    "plt.grid(b=True, which=\"major\",axis=\"both\", color=\"lightgrey\")\n",
    "plt.savefig(\"Images/plot1.png\")\n",
    "plt.show()"
   ]
  },
  {
   "cell_type": "code",
   "execution_count": null,
   "metadata": {},
   "outputs": [],
   "source": [
    "# Analysis: Countries closer to the equator tend to have higher temperatures."
   ]
  },
  {
   "cell_type": "markdown",
   "metadata": {},
   "source": [
    "## Latitude vs. Humidity Plot"
   ]
  },
  {
   "cell_type": "code",
   "execution_count": 14,
   "metadata": {},
   "outputs": [
    {
     "data": {
      "image/png": "[encoded data removed]",
      "text/plain": [
       "<Figure size 432x288 with 1 Axes>"
      ]
     },
     "metadata": {
      "needs_background": "light"
     },
     "output_type": "display_data"
    }
   ],
   "source": [
    "plt.scatter(clean_city_df[\"Lat\"], clean_city_df[\"Humidity\"])\n",
    "plt.title(\"Latitude vs. Humidity\")\n",
    "plt.xlabel(\"Latitude\")\n",
    "plt.ylabel(\"Humidity\")\n",
    "plt.grid(b=True, which=\"major\",axis=\"both\", color=\"lightgrey\")\n",
    "plt.savefig(\"Images/plot2.png\")\n",
    "plt.show()"
   ]
  },
  {
   "cell_type": "code",
   "execution_count": null,
   "metadata": {},
   "outputs": [],
   "source": [
    "# Analysis: There doesn't seem to be a strong correlation between Latitude and Humidity"
   ]
  },
  {
   "cell_type": "markdown",
   "metadata": {},
   "source": [
    "## Latitude vs. Cloudiness Plot"
   ]
  },
  {
   "cell_type": "code",
   "execution_count": 15,
   "metadata": {},
   "outputs": [
    {
     "data": {
      "image/png": "[encoded data removed]",
      "text/plain": [
       "<Figure size 432x288 with 1 Axes>"
      ]
     },
     "metadata": {
      "needs_background": "light"
     },
     "output_type": "display_data"
    }
   ],
   "source": [
    "plt.scatter(clean_city_df[\"Lat\"], clean_city_df[\"Cloudiness\"])\n",
    "plt.title(\"Latitude vs. Cloudiness\")\n",
    "plt.xlabel(\"Latitude\")\n",
    "plt.ylabel(\"Cloudiness\")\n",
    "plt.grid(b=True, which=\"major\",axis=\"both\", color=\"lightgrey\")\n",
    "plt.savefig(\"Images/plot3.png\")\n",
    "plt.show()"
   ]
  },
  {
   "cell_type": "code",
   "execution_count": null,
   "metadata": {},
   "outputs": [],
   "source": [
    "# Analysis: There doesn't seem to be a strong correlation between latitude and cloudiness."
   ]
  },
  {
   "cell_type": "markdown",
   "metadata": {},
   "source": [
    "## Latitude vs. Wind Speed Plot"
   ]
  },
  {
   "cell_type": "code",
   "execution_count": 16,
   "metadata": {},
   "outputs": [
    {
     "data": {
      "image/png": "[encoded data removed]",
      "text/plain": [
       "<Figure size 432x288 with 1 Axes>"
      ]
     },
     "metadata": {
      "needs_background": "light"
     },
     "output_type": "display_data"
    }
   ],
   "source": [
    "plt.scatter(clean_city_df[\"Lat\"], clean_city_df[\"Wind Speed (mph)\"])\n",
    "plt.title(\"Latitude vs. Wind Speed\")\n",
    "plt.xlabel(\"Latitude\")\n",
    "plt.ylabel(\"Wind Speed (mph)\")\n",
    "plt.grid(b=True, which=\"major\",axis=\"both\", color=\"lightgrey\")\n",
    "plt.savefig(\"Images/plot4.png\")\n",
    "plt.show()"
   ]
  },
  {
   "cell_type": "code",
   "execution_count": null,
   "metadata": {},
   "outputs": [],
   "source": [
    "# Analysis: There doesnt seem to be a strong correlation between latitude and wind speed"
   ]
  },
  {
   "cell_type": "markdown",
   "metadata": {},
   "source": [
    "## Linear Regression"
   ]
  },
  {
   "cell_type": "code",
   "execution_count": 17,
   "metadata": {},
   "outputs": [],
   "source": [
    "# OPTIONAL: Create a function to create Linear Regression plots\n",
    "def regression(x_axis, y_axis, title, x_label, y_label, chart_path):\n",
    "    slope, y_int, r, pval, stderr = linregress(x_axis, y_axis)\n",
    "    plt.scatter(x_axis, y_axis)\n",
    "    plt.title(title)\n",
    "    plt.xlabel(x_label)\n",
    "    plt.ylabel(y_label)\n",
    "    plt.grid(b=True, which=\"major\",axis=\"both\", color=\"lightgrey\")\n",
    "    regression = slope * x_axis + y_int\n",
    "    plt.plot(x_axis, regression, color = \"red\")\n",
    "    plt.savefig(chart_path)\n",
    "    plt.show()\n",
    "    "
   ]
  },
  {
   "cell_type": "code",
   "execution_count": 18,
   "metadata": {},
   "outputs": [],
   "source": [
    "# Create Northern and Southern Hemisphere DataFrames\n",
    "northern_df = clean_city_df.loc[(clean_city_df[\"Lat\"]> 0)]\n",
    "southern_df = clean_city_df.loc[(clean_city_df[\"Lat\"]<0)]"
   ]
  },
  {
   "cell_type": "markdown",
   "metadata": {},
   "source": [
    "####  Northern Hemisphere - Max Temp vs. Latitude Linear Regression"
   ]
  },
  {
   "cell_type": "code",
   "execution_count": 19,
   "metadata": {},
   "outputs": [
    {
     "data": {
      "image/png": "[encoded data removed]",
      "text/plain": [
       "<Figure size 432x288 with 1 Axes>"
      ]
     },
     "metadata": {
      "needs_background": "light"
     },
     "output_type": "display_data"
    }
   ],
   "source": [
    "regression(northern_df[\"Lat\"], northern_df[\"Temp\"], \"Northern Hemisphere- Temp vs. Latitude\", \n",
    "           \"Latitude\", \"Temperature (F)\", \"Images/Plot5.png\" )"
   ]
  },
  {
   "cell_type": "code",
   "execution_count": null,
   "metadata": {},
   "outputs": [],
   "source": [
    "# Analysis: This model shows a negative correlation between temperature and latitude in the norther temperature. As the latitude increases, the temperature decreases. "
   ]
  },
  {
   "cell_type": "markdown",
   "metadata": {},
   "source": [
    "####  Southern Hemisphere - Max Temp vs. Latitude Linear Regression"
   ]
  },
  {
   "cell_type": "code",
   "execution_count": 20,
   "metadata": {},
   "outputs": [
    {
     "data": {
      "image/png": "[encoded data removed]",
      "text/plain": [
       "<Figure size 432x288 with 1 Axes>"
      ]
     },
     "metadata": {
      "needs_background": "light"
     },
     "output_type": "display_data"
    }
   ],
   "source": [
    "regression(southern_df[\"Lat\"], southern_df[\"Temp\"], \"Southern Hemisphere- Temp vs. Latitude\", \n",
    "           \"Latitude\", \"Temperature (F)\", \"Images/Plot6.png\" )"
   ]
  },
  {
   "cell_type": "code",
   "execution_count": null,
   "metadata": {},
   "outputs": [],
   "source": [
    "# Analysis: This shows a correlation between latitude and temperature in the southern hemisphere, as the latitude gets larger, the temperature decreases. "
   ]
  },
  {
   "cell_type": "markdown",
   "metadata": {},
   "source": [
    "####  Northern Hemisphere - Humidity (%) vs. Latitude Linear Regression"
   ]
  },
  {
   "cell_type": "code",
   "execution_count": 21,
   "metadata": {},
   "outputs": [
    {
     "data": {
      "image/png": "[encoded data removed]",
      "text/plain": [
       "<Figure size 432x288 with 1 Axes>"
      ]
     },
     "metadata": {
      "needs_background": "light"
     },
     "output_type": "display_data"
    }
   ],
   "source": [
    "regression(northern_df[\"Lat\"], northern_df[\"Humidity\"], \"Northern Hemisphere- Humidity vs. Latitude\", \n",
    "           \"Latitude\", \"Humidity\", \"Images/Plot7.png\" )"
   ]
  },
  {
   "cell_type": "code",
   "execution_count": null,
   "metadata": {},
   "outputs": [],
   "source": [
    "# Analysis: There is a weak correlation between humidity and latitude, slightly so that as latitude increases, humidity decreases."
   ]
  },
  {
   "cell_type": "markdown",
   "metadata": {},
   "source": [
    "####  Southern Hemisphere - Humidity (%) vs. Latitude Linear Regression"
   ]
  },
  {
   "cell_type": "code",
   "execution_count": 22,
   "metadata": {},
   "outputs": [
    {
     "data": {
      "image/png": "[encoded data removed]",
      "text/plain": [
       "<Figure size 432x288 with 1 Axes>"
      ]
     },
     "metadata": {
      "needs_background": "light"
     },
     "output_type": "display_data"
    }
   ],
   "source": [
    "regression(southern_df[\"Lat\"], southern_df[\"Humidity\"], \"Southern Hemisphere- Humidity vs. Latitude\", \n",
    "           \"Latitude\", \"Humidity\", \"Images/Plot8.png\" )"
   ]
  },
  {
   "cell_type": "code",
   "execution_count": null,
   "metadata": {},
   "outputs": [],
   "source": [
    "# Analysis: There is a weak correlation between humidity and latitude in the Southern hemisphere. "
   ]
  },
  {
   "cell_type": "markdown",
   "metadata": {},
   "source": [
    "####  Northern Hemisphere - Cloudiness (%) vs. Latitude Linear Regression"
   ]
  },
  {
   "cell_type": "code",
   "execution_count": 23,
   "metadata": {},
   "outputs": [
    {
     "data": {
      "image/png": "[encoded data removed]",
      "text/plain": [
       "<Figure size 432x288 with 1 Axes>"
      ]
     },
     "metadata": {
      "needs_background": "light"
     },
     "output_type": "display_data"
    }
   ],
   "source": [
    "regression(northern_df[\"Lat\"], northern_df[\"Cloudiness\"], \"Northern Hemisphere- Cloudiness vs. Latitude\", \n",
    "           \"Latitude\", \"Cloudiness\", \"Images/Plot9.png\" )"
   ]
  },
  {
   "cell_type": "code",
   "execution_count": null,
   "metadata": {},
   "outputs": [],
   "source": [
    "# Analysis: In the nothern hemisphere, there is a slight correlation between cloudiness and latitude. As the latitude increases, cloudiness decreases."
   ]
  },
  {
   "cell_type": "markdown",
   "metadata": {},
   "source": [
    "####  Southern Hemisphere - Cloudiness (%) vs. Latitude Linear Regression"
   ]
  },
  {
   "cell_type": "code",
   "execution_count": 24,
   "metadata": {},
   "outputs": [
    {
     "data": {
      "image/png": "[encoded data removed]",
      "text/plain": [
       "<Figure size 432x288 with 1 Axes>"
      ]
     },
     "metadata": {
      "needs_background": "light"
     },
     "output_type": "display_data"
    }
   ],
   "source": [
    "regression(southern_df[\"Lat\"], southern_df[\"Cloudiness\"], \"Southern Hemisphere- Cloudiness vs. Latitude\", \n",
    "           \"Latitude\", \"Cloudiness\", \"Images/Plot10.png\" )"
   ]
  },
  {
   "cell_type": "code",
   "execution_count": null,
   "metadata": {},
   "outputs": [],
   "source": [
    "# Analysis: There is a slight correlation in the southern hemisphere between cloudiness and latitude. "
   ]
  },
  {
   "cell_type": "markdown",
   "metadata": {},
   "source": [
    "####  Northern Hemisphere - Wind Speed (mph) vs. Latitude Linear Regression"
   ]
  },
  {
   "cell_type": "code",
   "execution_count": 25,
   "metadata": {},
   "outputs": [
    {
     "data": {
      "image/png": "[encoded data removed]",
      "text/plain": [
       "<Figure size 432x288 with 1 Axes>"
      ]
     },
     "metadata": {
      "needs_background": "light"
     },
     "output_type": "display_data"
    }
   ],
   "source": [
    "regression(northern_df[\"Lat\"], northern_df[\"Wind Speed (mph)\"], \"Northern Hemisphere- Wind Speed (mph) vs. Latitude\", \n",
    "           \"Latitude\", \"Wind Speed (mph)\", \"Images/Plot11.png\" )"
   ]
  },
  {
   "cell_type": "code",
   "execution_count": null,
   "metadata": {},
   "outputs": [],
   "source": [
    "# Analysis: In the northern hemisphere, as latidude increases, wind speed increases."
   ]
  },
  {
   "cell_type": "markdown",
   "metadata": {},
   "source": [
    "####  Southern Hemisphere - Wind Speed (mph) vs. Latitude Linear Regression"
   ]
  },
  {
   "cell_type": "code",
   "execution_count": 26,
   "metadata": {},
   "outputs": [
    {
     "data": {
      "image/png": "[encoded data removed]",
      "text/plain": [
       "<Figure size 432x288 with 1 Axes>"
      ]
     },
     "metadata": {
      "needs_background": "light"
     },
     "output_type": "display_data"
    }
   ],
   "source": [
    "regression(southern_df[\"Lat\"], southern_df[\"Wind Speed (mph)\"], \"Southern Hemisphere- Wind Speed (mph) vs. Latitude\", \n",
    "           \"Latitude\", \"Wind Speed (mph)\", \"Images/Plot12.png\" )"
   ]
  },
  {
   "cell_type": "code",
   "execution_count": null,
   "metadata": {},
   "outputs": [],
   "source": [
    "# Analysis: In the Southern Hemisphere, as latitude increases, wind speed decreases. "
   ]
  }
 ],
 "metadata": {
  "anaconda-cloud": {},
  "kernel_info": {
   "name": "python3"
  },
  "kernelspec": {
   "display_name": "Python 3",
   "language": "python",
   "name": "python3"
  },
  "language_info": {
   "codemirror_mode": {
    "name": "ipython",
    "version": 3
   },
   "file_extension": ".py",
   "mimetype": "text/x-python",
   "name": "python",
   "nbconvert_exporter": "python",
   "pygments_lexer": "ipython3",
   "version": "3.7.6"
  },
  "latex_envs": {
   "LaTeX_envs_menu_present": true,
   "autoclose": false,
   "autocomplete": true,
   "bibliofile": "biblio.bib",
   "cite_by": "apalike",
   "current_citInitial": 1,
   "eqLabelWithNumbers": true,
   "eqNumInitial": 1,
   "hotkeys": {
    "equation": "Ctrl-E",
    "itemize": "Ctrl-I"
   },
   "labels_anchors": false,
   "latex_user_defs": false,
   "report_style_numbering": false,
   "user_envs_cfg": false
  },
  "nteract": {
   "version": "0.12.3"
  }
 },
 "nbformat": 4,
 "nbformat_minor": 2
}
